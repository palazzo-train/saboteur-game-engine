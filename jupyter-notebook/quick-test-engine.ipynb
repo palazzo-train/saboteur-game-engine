{
 "cells": [
  {
   "cell_type": "code",
   "execution_count": 1,
   "metadata": {},
   "outputs": [],
   "source": [
    "import sys\n",
    "import glob\n",
    "import os\n",
    "import networkx as nx\n"
   ]
  },
  {
   "cell_type": "code",
   "execution_count": 2,
   "metadata": {},
   "outputs": [],
   "source": [
    "card_path = r'D:\\my_project\\saboteur\\assets\\route-cards\\*'\n",
    "# card_path = r'D:\\my_project\\saboteur\\assets\\route-cards'\n"
   ]
  },
  {
   "cell_type": "code",
   "execution_count": 3,
   "metadata": {},
   "outputs": [
    {
     "data": {
      "text/plain": [
       "'D:\\\\my_project\\\\saboteur\\\\assets\\\\route-cards\\\\*\\\\*'"
      ]
     },
     "execution_count": 3,
     "metadata": {},
     "output_type": "execute_result"
    }
   ],
   "source": [
    "os.path.join(card_path, '*')"
   ]
  },
  {
   "cell_type": "code",
   "execution_count": 4,
   "metadata": {},
   "outputs": [],
   "source": [
    "def rename_temp():\n",
    "    for ff in glob.glob(card_path):\n",
    "        filename = os.path.basename(ff)\n",
    "        base_dir = os.path.dirname(ff)\n",
    "\n",
    "        prefix , card_id , route_code_list = parse_filename(filename)\n",
    "    #     print(card_id, filename)\n",
    "        nn= filename.split('_') \n",
    "\n",
    "        idd = nn[1][2:]\n",
    "        idd2 = int(idd) + 200\n",
    "        new_name = nn[0] + '_id' + str(idd2).zfill(5) + '_' + nn[2]\n",
    "\n",
    "        new_path = os.path.join( base_dir, new_name)\n",
    "        print(ff)\n",
    "        print(new_path)\n",
    "\n",
    "        os.rename( ff, new_path)\n",
    "\n",
    "        print('---')"
   ]
  },
  {
   "cell_type": "code",
   "execution_count": null,
   "metadata": {},
   "outputs": [],
   "source": []
  },
  {
   "cell_type": "code",
   "execution_count": 5,
   "metadata": {},
   "outputs": [],
   "source": [
    "def parse_filename(filename):\n",
    "    fobj = filename.split('_')\n",
    "    prefix = fobj[0]\n",
    "    card_id_str = fobj[1]\n",
    "    \n",
    "    card_id = int(card_id_str[2:])\n",
    "    path_route = fobj[2].split('.')[0]\n",
    "    route_code_list = (path_route[1:].split('-'))\n",
    "    \n",
    "    return prefix , card_id , route_code_list\n",
    "    "
   ]
  },
  {
   "cell_type": "code",
   "execution_count": null,
   "metadata": {},
   "outputs": [],
   "source": []
  },
  {
   "cell_type": "code",
   "execution_count": 6,
   "metadata": {},
   "outputs": [],
   "source": [
    "cards = []\n",
    "for ff in glob.glob(card_path):\n",
    "    filename = os.path.basename(ff)\n",
    "    \n",
    "    prefix , card_id , route_code_list = parse_filename(filename)\n",
    "    \n",
    "    cards.append(route_code_list)\n",
    "\n",
    "    "
   ]
  },
  {
   "cell_type": "code",
   "execution_count": null,
   "metadata": {},
   "outputs": [],
   "source": []
  },
  {
   "cell_type": "code",
   "execution_count": 7,
   "metadata": {},
   "outputs": [],
   "source": [
    "G1 = nx.Graph()"
   ]
  },
  {
   "cell_type": "code",
   "execution_count": 8,
   "metadata": {},
   "outputs": [],
   "source": [
    "G2 = nx.Graph()"
   ]
  },
  {
   "cell_type": "code",
   "execution_count": 9,
   "metadata": {},
   "outputs": [],
   "source": [
    "G1.add_node(0)\n",
    "G1.add_node(1)\n",
    "G1.add_node(2)\n",
    "G1.add_node(3)"
   ]
  },
  {
   "cell_type": "code",
   "execution_count": 10,
   "metadata": {},
   "outputs": [],
   "source": [
    "G1.add_edge( 0,1)\n",
    "G1.add_edge( 0,3)\n"
   ]
  },
  {
   "cell_type": "code",
   "execution_count": null,
   "metadata": {},
   "outputs": [],
   "source": []
  },
  {
   "cell_type": "code",
   "execution_count": 11,
   "metadata": {},
   "outputs": [
    {
     "data": {
      "text/plain": [
       "EdgeView([(0, 1), (0, 3)])"
      ]
     },
     "execution_count": 11,
     "metadata": {},
     "output_type": "execute_result"
    }
   ],
   "source": [
    "G1.edges"
   ]
  },
  {
   "cell_type": "code",
   "execution_count": 12,
   "metadata": {},
   "outputs": [
    {
     "data": {
      "text/plain": [
       "'0003'"
      ]
     },
     "execution_count": 12,
     "metadata": {},
     "output_type": "execute_result"
    }
   ],
   "source": [
    "str(3).zfill(4)"
   ]
  },
  {
   "cell_type": "code",
   "execution_count": 13,
   "metadata": {},
   "outputs": [
    {
     "data": {
      "text/plain": [
       "[]"
      ]
     },
     "execution_count": 13,
     "metadata": {},
     "output_type": "execute_result"
    }
   ],
   "source": [
    "list( G1.neighbors(2) )"
   ]
  },
  {
   "cell_type": "code",
   "execution_count": 14,
   "metadata": {},
   "outputs": [
    {
     "data": {
      "text/plain": [
       "[0]"
      ]
     },
     "execution_count": 14,
     "metadata": {},
     "output_type": "execute_result"
    }
   ],
   "source": [
    "list( G1.neighbors(3) )"
   ]
  },
  {
   "cell_type": "code",
   "execution_count": 15,
   "metadata": {},
   "outputs": [
    {
     "data": {
      "text/plain": [
       "[('1', 'b')]"
      ]
     },
     "execution_count": 15,
     "metadata": {},
     "output_type": "execute_result"
    }
   ],
   "source": [
    "import itertools\n",
    "list( itertools.combinations('1b' , 2) )"
   ]
  },
  {
   "cell_type": "code",
   "execution_count": 16,
   "metadata": {},
   "outputs": [
    {
     "data": {
      "text/plain": [
       "[['01'],\n",
       " ['01'],\n",
       " ['01'],\n",
       " ['01'],\n",
       " ['01'],\n",
       " ['03'],\n",
       " ['03'],\n",
       " ['03'],\n",
       " ['03'],\n",
       " ['0123'],\n",
       " ['0123'],\n",
       " ['0123'],\n",
       " ['0123'],\n",
       " ['0123'],\n",
       " ['123'],\n",
       " ['123'],\n",
       " ['123'],\n",
       " ['123'],\n",
       " ['123'],\n",
       " ['12'],\n",
       " ['012'],\n",
       " ['012'],\n",
       " ['012'],\n",
       " ['012'],\n",
       " ['02'],\n",
       " ['02'],\n",
       " ['02'],\n",
       " ['02'],\n",
       " ['13'],\n",
       " ['13'],\n",
       " ['13'],\n",
       " ['1b', '3b'],\n",
       " ['3b'],\n",
       " ['0b', '1b'],\n",
       " ['2b'],\n",
       " ['0b', '3b'],\n",
       " ['0b', '1b', '2b'],\n",
       " ['0b', '2b'],\n",
       " ['0b', '1b', '2b', '3b'],\n",
       " ['1b', '2b', '3b']]"
      ]
     },
     "execution_count": 16,
     "metadata": {},
     "output_type": "execute_result"
    }
   ],
   "source": [
    "cards"
   ]
  },
  {
   "cell_type": "code",
   "execution_count": null,
   "metadata": {},
   "outputs": [],
   "source": []
  },
  {
   "cell_type": "code",
   "execution_count": 17,
   "metadata": {},
   "outputs": [],
   "source": [
    "import numpy as np"
   ]
  },
  {
   "cell_type": "code",
   "execution_count": 18,
   "metadata": {},
   "outputs": [
    {
     "data": {
      "text/plain": [
       "array([[0., 0., 0., 0., 0., 0., 0., 0., 0., 0., 0., 0., 0.],\n",
       "       [0., 0., 0., 0., 0., 0., 0., 0., 0., 0., 0., 0., 0.],\n",
       "       [0., 0., 0., 0., 0., 0., 0., 0., 0., 0., 0., 0., 0.],\n",
       "       [0., 0., 0., 0., 0., 0., 0., 0., 0., 0., 0., 0., 0.],\n",
       "       [0., 0., 0., 0., 0., 0., 0., 0., 0., 0., 0., 0., 0.],\n",
       "       [0., 0., 0., 0., 0., 0., 0., 0., 0., 0., 0., 0., 0.],\n",
       "       [0., 0., 0., 0., 0., 0., 0., 0., 0., 0., 0., 0., 0.],\n",
       "       [0., 0., 0., 0., 0., 0., 0., 0., 0., 0., 0., 0., 0.],\n",
       "       [0., 0., 0., 0., 0., 0., 0., 0., 0., 0., 0., 0., 0.],\n",
       "       [0., 0., 0., 0., 0., 0., 0., 0., 0., 0., 0., 0., 0.],\n",
       "       [0., 0., 0., 0., 0., 0., 0., 0., 0., 0., 0., 0., 0.],\n",
       "       [0., 0., 0., 0., 0., 0., 0., 0., 0., 0., 0., 0., 0.],\n",
       "       [0., 0., 0., 0., 0., 0., 0., 0., 0., 0., 0., 0., 0.],\n",
       "       [0., 0., 0., 0., 0., 0., 0., 0., 0., 0., 0., 0., 0.],\n",
       "       [0., 0., 0., 0., 0., 0., 0., 0., 0., 0., 0., 0., 0.]])"
      ]
     },
     "execution_count": 18,
     "metadata": {},
     "output_type": "execute_result"
    }
   ],
   "source": [
    "np.zeros( [15,13])"
   ]
  },
  {
   "cell_type": "code",
   "execution_count": null,
   "metadata": {},
   "outputs": [],
   "source": []
  },
  {
   "cell_type": "code",
   "execution_count": 19,
   "metadata": {},
   "outputs": [],
   "source": [
    "import matplotlib.pyplot as plt"
   ]
  },
  {
   "cell_type": "code",
   "execution_count": 20,
   "metadata": {},
   "outputs": [
    {
     "data": {
      "image/png": "[encoded data removed]",
      "text/plain": [
       "<Figure size 432x288 with 1 Axes>"
      ]
     },
     "metadata": {},
     "output_type": "display_data"
    }
   ],
   "source": [
    "nx.draw_networkx(G1)"
   ]
  },
  {
   "cell_type": "code",
   "execution_count": 23,
   "metadata": {},
   "outputs": [
    {
     "name": "stdout",
     "output_type": "stream",
     "text": [
      "D:\\my_project\\saboteur\\game_engine\n"
     ]
    }
   ],
   "source": [
    "## test\n",
    "os.chdir('..')\n",
    "print(os.getcwd())\n"
   ]
  },
  {
   "cell_type": "code",
   "execution_count": 25,
   "metadata": {},
   "outputs": [],
   "source": [
    "import networkx as nx\n",
    "import engine.engine as engine\n",
    "import engine.route_card as route_card\n",
    "from engine.game_map import GameMap "
   ]
  },
  {
   "cell_type": "code",
   "execution_count": 35,
   "metadata": {},
   "outputs": [
    {
     "name": "stdout",
     "output_type": "stream",
     "text": [
      "[('route-id:0201-open:0', 'route-id:0201-open:1'), ('route-id:0201-open:2', 'route-id:0201-dead:2'), ('route-id:0201-open:3', 'route-id:0201-dead:3')]\n",
      "[('route-id:0201-open:0', 'route-id:0201-open:1'), ('route-id:0201-open:2', 'route-id:0201-dead:2'), ('route-id:0201-open:3', 'route-id:0201-dead:3')]\n"
     ]
    },
    {
     "data": {
      "image/png": "[encoded data removed]",
      "text/plain": [
       "<Figure size 432x288 with 1 Axes>"
      ]
     },
     "metadata": {},
     "output_type": "display_data"
    }
   ],
   "source": [
    "card_path = r'D:\\my_project\\saboteur\\assets\\route-cards'\n",
    "\n",
    "g = nx.Graph()\n",
    "cards = route_card.read_all_route_cards(card_path)\n",
    "\n",
    "map = GameMap()\n",
    "\n",
    "test_g = g.copy()\n",
    "\n",
    "card = cards[0]\n",
    "print(card.g.edges)\n",
    "test_g = nx.algorithms.operators.binary.compose(g, card.g)\n",
    "\n",
    "\n",
    "card2 = cards[10]\n",
    "test_g2 = nx.algorithms.operators.binary.compose(test_g, card2.g)\n",
    "\n",
    "print(test_g.edges)\n",
    "# nx.draw_networkx(test_g)\n",
    "nx.draw_networkx(test_g2, nx.spring_layout(test_g2))\n"
   ]
  },
  {
   "cell_type": "code",
   "execution_count": 46,
   "metadata": {},
   "outputs": [],
   "source": [
    "def ddd(g):\n",
    "    pos=nx.spring_layout(g)\n",
    "\n",
    "    nx.draw_networkx(g , pos)\n",
    "\n",
    "    print(g.edges)\n",
    "    \n",
    "def ddd2(g):\n",
    "    pos=nx.spring_layout(g)\n",
    "\n",
    "    nx.draw_networkx_edges(g , pos)\n",
    "\n",
    "    print(g.edges)\n",
    "    \n",
    "\n"
   ]
  },
  {
   "cell_type": "code",
   "execution_count": 47,
   "metadata": {},
   "outputs": [
    {
     "name": "stdout",
     "output_type": "stream",
     "text": [
      "[('route-id:0207-open:0', 'route-id:0207-open:3'), ('route-id:0207-open:1', 'route-id:0207-dead:1'), ('route-id:0207-open:2', 'route-id:0207-dead:2')]\n"
     ]
    },
    {
     "data": {
      "image/png": "[encoded data removed]",
      "text/plain": [
       "<Figure size 432x288 with 1 Axes>"
      ]
     },
     "metadata": {},
     "output_type": "display_data"
    }
   ],
   "source": [
    "ddd(cards[6].g)"
   ]
  },
  {
   "cell_type": "code",
   "execution_count": 48,
   "metadata": {},
   "outputs": [
    {
     "name": "stdout",
     "output_type": "stream",
     "text": [
      "[('route-id:0207-open:0', 'route-id:0207-open:3'), ('route-id:0207-open:1', 'route-id:0207-dead:1'), ('route-id:0207-open:2', 'route-id:0207-dead:2')]\n"
     ]
    },
    {
     "data": {
      "image/png": "[encoded data removed]",
      "text/plain": [
       "<Figure size 432x288 with 1 Axes>"
      ]
     },
     "metadata": {
      "needs_background": "light"
     },
     "output_type": "display_data"
    }
   ],
   "source": [
    "ddd2(cards[6].g)"
   ]
  },
  {
   "cell_type": "code",
   "execution_count": null,
   "metadata": {},
   "outputs": [],
   "source": []
  },
  {
   "cell_type": "code",
   "execution_count": 33,
   "metadata": {},
   "outputs": [
    {
     "data": {
      "text/plain": [
       "{'route-id:0201-open:0': array([-0.78535888,  0.42565326]),\n",
       " 'route-id:0201-block:0': array([0.44516182, 0.9221576 ]),\n",
       " 'route-id:0201-dead:0': array([-0.92760622,  0.04644604]),\n",
       " 'route-id:0201-open:1': array([-0.85239542,  0.46309018]),\n",
       " 'route-id:0201-block:1': array([0.73236255, 0.75008772]),\n",
       " 'route-id:0201-dead:1': array([-0.50440433,  0.78348314]),\n",
       " 'route-id:0201-open:2': array([-0.75872178, -0.32064283]),\n",
       " 'route-id:0201-block:2': array([ 0.95356374, -0.28819087]),\n",
       " 'route-id:0201-dead:2': array([-0.83525282, -0.350778  ]),\n",
       " 'route-id:0201-open:3': array([ 0.28222443, -0.78371637]),\n",
       " 'route-id:0201-block:3': array([0.1169962, 1.       ]),\n",
       " 'route-id:0201-dead:3': array([ 0.3527515 , -0.78801638]),\n",
       " 'route-id:0211-open:0': array([-0.01148636,  0.02452012]),\n",
       " 'route-id:0211-block:0': array([ 0.76689716, -0.7444466 ]),\n",
       " 'route-id:0211-dead:0': array([-0.23599882,  0.97008057]),\n",
       " 'route-id:0211-open:1': array([-0.01299522, -0.03539932]),\n",
       " 'route-id:0211-block:1': array([-0.41961282, -0.93082295]),\n",
       " 'route-id:0211-dead:1': array([-0.05704925, -0.97842188]),\n",
       " 'route-id:0211-open:2': array([-0.07401046, -0.03376081]),\n",
       " 'route-id:0211-block:2': array([ 0.83273473, -0.09050272]),\n",
       " 'route-id:0211-dead:2': array([0.94314002, 0.18801537]),\n",
       " 'route-id:0211-open:3': array([-0.07084227,  0.02737655]),\n",
       " 'route-id:0211-block:3': array([-0.80259717, -0.72480596]),\n",
       " 'route-id:0211-dead:3': array([0.92249966, 0.46859414])}"
      ]
     },
     "execution_count": 33,
     "metadata": {},
     "output_type": "execute_result"
    }
   ],
   "source": []
  },
  {
   "cell_type": "code",
   "execution_count": 51,
   "metadata": {},
   "outputs": [],
   "source": [
    "card1 = cards[0]\n",
    "card2 = cards[10]\n",
    "test_g = nx.algorithms.operators.binary.compose(g, card1.g)\n",
    "test_g2 = nx.algorithms.operators.binary.compose(test_g, card2.g)"
   ]
  },
  {
   "cell_type": "code",
   "execution_count": 52,
   "metadata": {},
   "outputs": [
    {
     "data": {
      "text/plain": [
       "EdgeView([('route-id:0201-open:0', 'route-id:0201-open:1'), ('route-id:0201-open:2', 'route-id:0201-dead:2'), ('route-id:0201-open:3', 'route-id:0201-dead:3'), ('route-id:0211-open:0', 'route-id:0211-open:1'), ('route-id:0211-open:0', 'route-id:0211-open:2'), ('route-id:0211-open:0', 'route-id:0211-open:3'), ('route-id:0211-open:1', 'route-id:0211-open:2'), ('route-id:0211-open:1', 'route-id:0211-open:3'), ('route-id:0211-open:2', 'route-id:0211-open:3')])"
      ]
     },
     "execution_count": 52,
     "metadata": {},
     "output_type": "execute_result"
    }
   ],
   "source": [
    "test_g2.edges"
   ]
  },
  {
   "cell_type": "code",
   "execution_count": 54,
   "metadata": {},
   "outputs": [
    {
     "data": {
      "text/plain": [
       "('route_id00201_p01.jpg', 'route_id00211_p0123.jpg')"
      ]
     },
     "execution_count": 54,
     "metadata": {},
     "output_type": "execute_result"
    }
   ],
   "source": [
    "card1.filename, card2.filename"
   ]
  },
  {
   "cell_type": "code",
   "execution_count": 58,
   "metadata": {},
   "outputs": [],
   "source": [
    "test_g2.add_edge( card1.get_node_name_open(1) , card2.get_node_name_open(3)  )"
   ]
  },
  {
   "cell_type": "code",
   "execution_count": null,
   "metadata": {},
   "outputs": [],
   "source": []
  },
  {
   "cell_type": "code",
   "execution_count": 59,
   "metadata": {},
   "outputs": [
    {
     "data": {
      "text/plain": [
       "EdgeView([('route-id:0201-open:0', 'route-id:0201-open:1'), ('route-id:0201-open:1', 'route-id:0211-open:3'), ('route-id:0201-open:2', 'route-id:0201-dead:2'), ('route-id:0201-open:3', 'route-id:0201-dead:3'), ('route-id:0211-open:0', 'route-id:0211-open:1'), ('route-id:0211-open:0', 'route-id:0211-open:2'), ('route-id:0211-open:0', 'route-id:0211-open:3'), ('route-id:0211-open:1', 'route-id:0211-open:2'), ('route-id:0211-open:1', 'route-id:0211-open:3'), ('route-id:0211-open:2', 'route-id:0211-open:3')])"
      ]
     },
     "execution_count": 59,
     "metadata": {},
     "output_type": "execute_result"
    }
   ],
   "source": [
    "test_g2.edges"
   ]
  },
  {
   "cell_type": "code",
   "execution_count": 68,
   "metadata": {},
   "outputs": [
    {
     "data": {
      "image/png": "[encoded data removed]",
      "text/plain": [
       "<Figure size 432x288 with 1 Axes>"
      ]
     },
     "metadata": {},
     "output_type": "display_data"
    }
   ],
   "source": [
    "nodes1 = [card1.get_node_name_open(i) for i in range(0,4)]\n",
    "nodes2 = [card2.get_node_name_open(i) for i in range(0,4)]\n",
    "\n",
    "\n",
    "nx.draw_networkx(test_g2 , nodelist   = nodes1 + nodes2 )"
   ]
  },
  {
   "cell_type": "code",
   "execution_count": 67,
   "metadata": {},
   "outputs": [
    {
     "data": {
      "text/plain": [
       "['route-id:0201-open:0',\n",
       " 'route-id:0201-open:1',\n",
       " 'route-id:0201-open:2',\n",
       " 'route-id:0201-open:3',\n",
       " 'route-id:0211-open:0',\n",
       " 'route-id:0211-open:1',\n",
       " 'route-id:0211-open:2',\n",
       " 'route-id:0211-open:3']"
      ]
     },
     "execution_count": 67,
     "metadata": {},
     "output_type": "execute_result"
    }
   ],
   "source": [
    "nodes1 + nodes2"
   ]
  },
  {
   "cell_type": "code",
   "execution_count": null,
   "metadata": {},
   "outputs": [],
   "source": []
  }
 ],
 "metadata": {
  "kernelspec": {
   "display_name": "Python 3",
   "language": "python",
   "name": "python3"
  },
  "language_info": {
   "codemirror_mode": {
    "name": "ipython",
    "version": 3
   },
   "file_extension": ".py",
   "mimetype": "text/x-python",
   "name": "python",
   "nbconvert_exporter": "python",
   "pygments_lexer": "ipython3",
   "version": "3.8.7"
  }
 },
 "nbformat": 4,
 "nbformat_minor": 4
}
